{
 "cells": [
  {
   "cell_type": "code",
   "execution_count": 27,
   "metadata": {},
   "outputs": [],
   "source": [
    "import requests\n",
    "import os\n",
    "import time"
   ]
  },
  {
   "cell_type": "code",
   "execution_count": 16,
   "metadata": {},
   "outputs": [],
   "source": [
    "# Pexels API key\n",
    "API_KEY = \"V4d6QsAi3ksUtlYJcZExhvZWhqqTzoyTHbvfxvtctnyQsN0U49zxS5b1\"\n",
    "\n",
    "# API endpoint\n",
    "url = \"https://api.pexels.com/v1/search\"\n",
    "\n",
    "# Request headers\n",
    "headers = {\n",
    "    \"Authorization\": API_KEY\n",
    "}\n",
    "\n",
    "# 폴더 리스트 만들기 : params.query\n",
    "# 디렉토리 경로\n",
    "directory = \"../Data/All_Image/All_Image/office/\"\n",
    "\n",
    "# 바꿔야 하는 값들과 그에 대응하는 새 값들\n",
    "replace_dict = {\n",
    "    'bike_helmet': 'bike helmet',\n",
    "    'mouse': 'computer mouse',\n",
    "    'paper_notebook': 'notebook',\n",
    "    'ring_binder': 'file binder',\n",
    "    'tape_dispenser': 'tape dispenser',\n",
    "    'desk_chair':'desk chair',\n",
    "    'file_cabinet':'file cabinet'\n",
    "}\n",
    "\n",
    "# 해당 디렉토리의 모든 하위 디렉토리를 가져옴\n",
    "folders = [name for name in os.listdir(directory) if os.path.isdir(os.path.join(directory, name))]\n",
    "\n",
    "# replace_dict를 사용해 값을 변경\n",
    "folders = [replace_dict.get(name, name) for name in folders]\n",
    "\n",
    "# Search parameters\n",
    "params = {\n",
    "    \"query\": folders,  # Data/All_Image/All_Image/office/\n",
    "    \"per_page\": 10,  # 한 번에 가져올 이미지의 수\n",
    "    \"page\": 10,  # 가져올 페이지\n",
    "}\n"
   ]
  },
  {
   "cell_type": "code",
   "execution_count": 17,
   "metadata": {},
   "outputs": [],
   "source": [
    "# Request images\n",
    "response = requests.get(url, headers=headers, params=params)\n",
    "response.raise_for_status()\n",
    "\n",
    "# Parse response\n",
    "data = response.json()"
   ]
  },
  {
   "cell_type": "code",
   "execution_count": 39,
   "metadata": {},
   "outputs": [],
   "source": [
    "def downloadImages(startPage, per_page, folders):\n",
    "    # 각 폴더에 대해 Pexels에서 이미지를 검색하고 저장함\n",
    "    for folder in folders:\n",
    "        # Search parameters\n",
    "        params = {\n",
    "            \"query\": folder,  # folder 이름을 검색어로 사용\n",
    "            \"per_page\": per_page,  # 한 번에 가져올 이미지의 수\n",
    "            \"page\": startPage,  # 가져올 페이지\n",
    "        }\n",
    "\n",
    "        # Request images\n",
    "        response = requests.get(url, headers=headers, params=params)\n",
    "        response.raise_for_status()\n",
    "\n",
    "        # Parse response\n",
    "        data = response.json()\n",
    "\n",
    "        # Create directory for images\n",
    "        os.makedirs(f'./Images/{folder}', exist_ok=True)\n",
    "\n",
    "        # Download images\n",
    "        for i, photo in enumerate(data[\"photos\"], start = ((startPage - 1) * per_page + 1 )):\n",
    "            image_url = photo[\"src\"][\"large\"]\n",
    "            image_res = requests.get(image_url)\n",
    "            image_res.raise_for_status()\n",
    "\n",
    "            # Save image\n",
    "            with open(f'./Images/{folder}/{folder}{i}.jpg', 'wb') as f:\n",
    "                f.write(image_res.content)"
   ]
  },
  {
   "cell_type": "code",
   "execution_count": 37,
   "metadata": {},
   "outputs": [],
   "source": [
    "per_page = 10\n",
    "start_page = 20\n",
    "for i in range(start_page, 21):\n",
    "    downloadImages(i, per_page, folders)\n",
    "    time.sleep(1) \n",
    "    "
   ]
  },
  {
   "cell_type": "code",
   "execution_count": null,
   "metadata": {},
   "outputs": [],
   "source": [
    "remain_folders = ['desk_chair','desktop_computer','letter_tray','punchers','printer']\n",
    "# 데이터 부족 punchers, printer\n",
    "# 추가 완료 desk_chair, desktop_computer\n",
    "# 데이터 없음 letter_tray\n",
    "remain_folders = ['desk chair']\n",
    "\n",
    "# Search parameters\n",
    "params = {\n",
    "    \"query\": remain_folders,  # Data/All_Image/All_Image/office/\n",
    "    \"per_page\": 10,  # 한 번에 가져올 이미지의 수\n",
    "    \"page\": 1,  # 가져올 페이지\n",
    "}"
   ]
  },
  {
   "cell_type": "code",
   "execution_count": 41,
   "metadata": {},
   "outputs": [],
   "source": [
    "per_page = 10\n",
    "start_page = 1\n",
    "remain_folders = ['desktop computer']\n",
    "\n",
    "for i in range(start_page, 21):\n",
    "    downloadImages(i, per_page, remain_folders)\n",
    "    time.sleep(1) \n",
    "    "
   ]
  },
  {
   "cell_type": "code",
   "execution_count": null,
   "metadata": {},
   "outputs": [],
   "source": [
    "# C:\\Users\\a\\Desktop\\OptimizedProject\\YOLOV8\\Data\\All_Image\\All_Image\\office"
   ]
  },
  {
   "cell_type": "code",
   "execution_count": 47,
   "metadata": {},
   "outputs": [],
   "source": [
    "# 이미지 이름 변경 1\n",
    "import os\n",
    "\n",
    "def rename_files(path,folder_Name):\n",
    "    for folder_name in os.listdir(path):\n",
    "        folder_path = os.path.join(path, folder_name)\n",
    "        \n",
    "        if os.path.isdir(folder_path):\n",
    "            for num, img_name in enumerate(os.listdir(folder_path), start=1):\n",
    "                img_path = os.path.join(folder_path, img_name)\n",
    "                \n",
    "                # Check if it is an image file\n",
    "                if os.path.isfile(img_path) and img_name.lower().endswith(('.png', '.jpg', '.jpeg', '.tiff', '.bmp', '.gif')):\n",
    "                    new_img_name = f'{folder_name}_{folder_Name}_{num}.jpg'\n",
    "                    new_img_path = os.path.join(folder_path, new_img_name)\n",
    "                    \n",
    "                    os.rename(img_path, new_img_path)\n"
   ]
  },
  {
   "cell_type": "code",
   "execution_count": 54,
   "metadata": {},
   "outputs": [],
   "source": [
    "# 이미지 이름 변경 2\n",
    "# directory = \"../Data/All_Image/All_Image/webcam/\"\n",
    "directory = \"../PexelsCrawler/Images/\"\n",
    "folder_Name = 'webcam'\n",
    "# Using the function\n",
    "rename_files(directory,folder_Name)"
   ]
  },
  {
   "cell_type": "code",
   "execution_count": 58,
   "metadata": {},
   "outputs": [
    {
     "name": "stdout",
     "output_type": "stream",
     "text": [
      "../Data/All_Image/All_Image/webcam/\n"
     ]
    }
   ],
   "source": [
    "# 이미지 복사해서 옮기기\n",
    "import os\n",
    "import shutil\n",
    "\n",
    "def move_files(src_dir, dest_dir):\n",
    "    print(src_dir, dest_dir)\n",
    "    for folder_name in os.listdir(src_dir):\n",
    "        folder_path = os.path.join(src_dir, folder_name)\n",
    "\n",
    "        if os.path.isdir(folder_path):\n",
    "            for file_name in os.listdir(folder_path):\n",
    "                file_path = os.path.join(folder_path, file_name)\n",
    "\n",
    "                # Check if it is a file (not a directory)\n",
    "                if os.path.isfile(file_path):\n",
    "                    # Create a new path for the file in the destination directory\n",
    "                    new_path = os.path.join(dest_dir, file_name)\n",
    "\n",
    "                    # Move the file to the new directory\n",
    "                    shutil.move(file_path, new_path)\n",
    "\n",
    "# Using the function\n",
    "src_dir = \"../Data/All_Image/All_Image/webcam/\"\n",
    "dest_dir = \"../Data/All_Image/All_Image/새 폴더/\""
   ]
  },
  {
   "cell_type": "code",
   "execution_count": null,
   "metadata": {},
   "outputs": [],
   "source": [
    "move_files(src_dir, dest_dir)"
   ]
  },
  {
   "cell_type": "code",
   "execution_count": 59,
   "metadata": {},
   "outputs": [
    {
     "name": "stdout",
     "output_type": "stream",
     "text": [
      "모든 파일 이름이 변경되었습니다.\n"
     ]
    }
   ],
   "source": [
    "import os\n",
    "import shutil\n",
    "\n",
    "# 대상 폴더\n",
    "folder_path = \"../PexelsCrawler/Images/punchers/\"\n",
    "\n",
    "# 해당 폴더의 모든 파일 가져오기\n",
    "file_names = os.listdir(folder_path)\n",
    "\n",
    "# 파일들을 반복하며 이름 변경\n",
    "for i, file_name in enumerate(file_names):\n",
    "    # 파일의 확장자 가져오기 (.jpg, .png 등)\n",
    "    extension = os.path.splitext(file_name)[1]\n",
    "    \n",
    "    # 새 파일 이름 생성\n",
    "    new_file_name = \"punchers_{:02d}\".format(i+1) + extension\n",
    "    \n",
    "    # 파일 이름 변경\n",
    "    shutil.move(os.path.join(folder_path, file_name), os.path.join(folder_path, new_file_name))\n",
    "\n",
    "print(\"모든 파일 이름이 변경되었습니다.\")"
   ]
  },
  {
   "cell_type": "code",
   "execution_count": 60,
   "metadata": {},
   "outputs": [],
   "source": [
    "import os\n",
    "import shutil\n",
    "\n",
    "img_path = '../PexelsCrawler/Images/'\n",
    "total_image_path = os.path.join(img_path, '_totalImage')\n",
    "\n",
    "# totalImage 폴더가 없다면 만듭니다.\n",
    "if not os.path.exists(total_image_path):\n",
    "    os.makedirs(total_image_path)\n",
    "\n",
    "# 각 폴더에 대해\n",
    "for foldername in os.listdir(img_path):\n",
    "    folder_path = os.path.join(img_path, foldername)\n",
    "\n",
    "    # 해당 경로가 디렉터리인 경우만\n",
    "    if os.path.isdir(folder_path):\n",
    "        images = os.listdir(folder_path)\n",
    "        for i, img in enumerate(images):\n",
    "            img_file_path = os.path.join(folder_path, img)\n",
    "\n",
    "            # 'c_' + foldername + '_' + 순번 + '.jpg' 형식으로 이름 생성\n",
    "            new_img_name = 'c_' + foldername + '_' + str(i+1).zfill(2) + '.jpg' \n",
    "            new_img_path = os.path.join(total_image_path, new_img_name)\n",
    "\n",
    "            # 파일을 복사합니다.\n",
    "            shutil.copy2(img_file_path, new_img_path)"
   ]
  }
 ],
 "metadata": {
  "kernelspec": {
   "display_name": "OOA",
   "language": "python",
   "name": "python3"
  },
  "language_info": {
   "codemirror_mode": {
    "name": "ipython",
    "version": 3
   },
   "file_extension": ".py",
   "mimetype": "text/x-python",
   "name": "python",
   "nbconvert_exporter": "python",
   "pygments_lexer": "ipython3",
   "version": "3.9.16"
  },
  "orig_nbformat": 4
 },
 "nbformat": 4,
 "nbformat_minor": 2
}
