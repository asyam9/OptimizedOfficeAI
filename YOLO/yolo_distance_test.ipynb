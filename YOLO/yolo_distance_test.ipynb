{
 "cells": [
  {
   "cell_type": "code",
   "execution_count": 15,
   "metadata": {},
   "outputs": [
    {
     "name": "stderr",
     "output_type": "stream",
     "text": [
      "Ultralytics YOLOv8.0.117  Python-3.9.16 torch-2.0.0+cu118 CUDA:0 (NVIDIA GeForce RTX 3090, 24575MiB)\n",
      "Setup complete  (12 CPUs, 31.9 GB RAM, 611.6/930.9 GB disk)\n"
     ]
    }
   ],
   "source": [
    "import math\n",
    "import torch\n",
    "import ultralytics\n",
    "ultralytics.checks()\n",
    "from ultralytics import YOLO\n",
    "import yaml\n",
    "import os\n",
    "import supervision as sv\n",
    "\n",
    "from ultralytics import YOLO"
   ]
  },
  {
   "cell_type": "code",
   "execution_count": 16,
   "metadata": {},
   "outputs": [],
   "source": [
    "def calculate_distance(point):\n",
    "    x_centroid , y_centroid = 0.5, 0.5\n",
    "    return math.sqrt((x_centroid - point[0])**2 + (y_centroid - point[1])**2)"
   ]
  },
  {
   "cell_type": "code",
   "execution_count": 9,
   "metadata": {},
   "outputs": [
    {
     "name": "stderr",
     "output_type": "stream",
     "text": [
      "\n",
      "image 1/1 c:\\Users\\a\\Desktop\\OptimizedProject\\YOLOV8\\calculator186.jpg: 224x320 1 calculator, 1 pen, 11.0ms\n",
      "Speed: 1.0ms preprocess, 11.0ms inference, 5.0ms postprocess per image at shape (1, 3, 320, 320)\n",
      "Results saved to \u001b[1mruns\\detect\\predict13\u001b[0m\n",
      "1 label saved to runs\\detect\\predict13\\labels\n"
     ]
    }
   ],
   "source": [
    "model = YOLO('./runs/detect/train7/weights/best.pt')\n",
    "names = model.names\n",
    "# 오브젝트별 거리를 distances 에 저장합니다.\n",
    "\n",
    "# imgae predict\n",
    "result = model.predict(source='./calculator186.jpg', save=True, save_txt=True)"
   ]
  },
  {
   "cell_type": "code",
   "execution_count": 14,
   "metadata": {},
   "outputs": [
    {
     "name": "stdout",
     "output_type": "stream",
     "text": [
      "calculator\n",
      "pen\n",
      "[0.3373014726036674, 0.16025410441238175]\n"
     ]
    }
   ],
   "source": [
    "model = YOLO('./runs/detect/train7/weights/best.pt')\n",
    "\n",
    "#class_id 별 name\n",
    "names = model.names\n",
    "\n",
    "# imgae predict\n",
    "result = model.predict(source='./calculator186.jpg', save=True, save_txt=True)\n",
    "\n",
    "# result 내의 결과값들\n",
    "for r in result:\n",
    "    for box in r.boxes:\n",
    "        class_id = names[int(box.cls)]\n",
    "        x1 = float(box.xyxyn[0][0])\n",
    "        y1 = float(box.xyxyn[0][1])\n",
    "        x2 = float(box.xyxyn[0][2])\n",
    "        y2 = float(box.xyxyn[0][3])\n",
    "    \n",
    "        print(names[class_id], x1, y1, x2, y2)       \n",
    "        "
   ]
  }
 ],
 "metadata": {
  "kernelspec": {
   "display_name": "OOA",
   "language": "python",
   "name": "python3"
  },
  "language_info": {
   "codemirror_mode": {
    "name": "ipython",
    "version": 3
   },
   "file_extension": ".py",
   "mimetype": "text/x-python",
   "name": "python",
   "nbconvert_exporter": "python",
   "pygments_lexer": "ipython3",
   "version": "3.9.16"
  },
  "orig_nbformat": 4
 },
 "nbformat": 4,
 "nbformat_minor": 2
}
